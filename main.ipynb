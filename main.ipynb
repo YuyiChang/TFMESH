{
 "cells": [
  {
   "cell_type": "markdown",
   "metadata": {},
   "source": [
    "# Trajectory fusing and motion estimation - NGSIM"
   ]
  },
  {
   "cell_type": "code",
   "execution_count": 3,
   "metadata": {},
   "outputs": [],
   "source": [
    "import numpy as np\n",
    "import matplotlib.pyplot as plt\n",
    "import time\n",
    "import warnings\n",
    "from tqdm import tqdm\n",
    "from joblib import Parallel, delayed\n",
    "import multiprocessing\n",
    "import os\n",
    "\n",
    "import libStep1 as s1\n",
    "import libStep2 as s2\n",
    "import libFileio as f\n",
    "import importlib\n",
    "\n",
    "import glob"
   ]
  },
  {
   "cell_type": "code",
   "execution_count": 4,
   "metadata": {},
   "outputs": [
    {
     "name": "stdout",
     "output_type": "stream",
     "text": [
      "data/v7_6_combined_preproc/\n"
     ]
    }
   ],
   "source": [
    "importlib.reload(f)\n",
    "importlib.reload(s1)\n",
    "importlib.reload(s2)\n",
    "\n",
    "# vNum = '7'\n",
    "# combType = 'combined'\n",
    "# srcDataDir = 'data/rawdata_' + combType + '_v' + vNum + '/'\n",
    "\n",
    "# OR, specify input data folder\n",
    "srcDataDir = 'data/v7_6_combined_preproc/' # NGSIM\n",
    "# srcDataDir = 'data/lidar_mini_test_220326/'\n",
    "\n",
    "print(srcDataDir)\n",
    "\n",
    "num_cores = multiprocessing.cpu_count()\n",
    "\n",
    "# create folder under srcDataDir for data output\n",
    "try:\n",
    "    os.mkdir(srcDataDir + 'output')\n",
    "except FileExistsError:\n",
    "    pass\n"
   ]
  },
  {
   "cell_type": "code",
   "execution_count": 5,
   "metadata": {},
   "outputs": [],
   "source": [
    "def veh_motion_est(data, vid):\n",
    "    # get vehicle\n",
    "    dataVeh = f.get_veh(data, vid)\n",
    "    # est motion\n",
    "    dataTemp = s1.combine_cam_motion_est_ud(dataVeh)\n",
    "    return dataTemp #, np.shape(dataTemp)[0]"
   ]
  },
  {
   "cell_type": "markdown",
   "metadata": {},
   "source": [
    "## i/o and step 1 and 2"
   ]
  },
  {
   "cell_type": "code",
   "execution_count": 6,
   "metadata": {},
   "outputs": [
    {
     "name": "stdout",
     "output_type": "stream",
     "text": [
      "Found 6 data files under data/v7_6_combined_preproc/\n",
      "\n",
      "\n",
      "----------------------------------------------------------------------\n",
      "Working on data/v7_6_combined_preproc/cam1234567_lane5_combined_v7_6.mat...\n",
      "Data position converted from [ft] to [m]\n",
      "(403777, 1)\n",
      "data/v7_6_combined_preproc/cam1234567_lane5_combined_v7_6.mat\n",
      "There are 616 vehicles in this dataset.\n"
     ]
    },
    {
     "name": "stderr",
     "output_type": "stream",
     "text": [
      "100%|██████████| 616/616 [00:21<00:00, 28.47it/s] \n"
     ]
    },
    {
     "name": "stdout",
     "output_type": "stream",
     "text": [
      "\n",
      "runtime = 22.14\n",
      "Saved to data/v7_6_combined_preproc/output/cam1234567_lane5_combined_v7_6.mat\n"
     ]
    },
    {
     "name": "stderr",
     "output_type": "stream",
     "text": [
      "100%|██████████| 616/616 [00:02<00:00, 275.96it/s]\n"
     ]
    },
    {
     "name": "stdout",
     "output_type": "stream",
     "text": [
      "\n",
      "runtime = 2.25\n",
      "Saved to data/v7_6_combined_preproc/output/cam1234567_lane5_combined_v7_6_op.mat\n",
      "Saved to data/v7_6_combined_preproc/output/cam1234567_lane5_combined_v7_6_op_stop_info.mat\n",
      "\n",
      "----------------------------------------------------------------------\n",
      "Working on data/v7_6_combined_preproc/cam1234567_lane1_combined_v7_6.mat...\n",
      "Data position converted from [ft] to [m]\n",
      "(197697, 1)\n",
      "data/v7_6_combined_preproc/cam1234567_lane1_combined_v7_6.mat\n",
      "There are 434 vehicles in this dataset.\n"
     ]
    },
    {
     "name": "stderr",
     "output_type": "stream",
     "text": [
      "100%|██████████| 434/434 [00:08<00:00, 48.59it/s]\n"
     ]
    },
    {
     "name": "stdout",
     "output_type": "stream",
     "text": [
      "\n",
      "runtime = 9.62\n",
      "Saved to data/v7_6_combined_preproc/output/cam1234567_lane1_combined_v7_6.mat\n"
     ]
    },
    {
     "name": "stderr",
     "output_type": "stream",
     "text": [
      "100%|██████████| 434/434 [00:00<00:00, 672.11it/s]\n"
     ]
    },
    {
     "name": "stdout",
     "output_type": "stream",
     "text": [
      "\n",
      "runtime = 0.65\n",
      "Saved to data/v7_6_combined_preproc/output/cam1234567_lane1_combined_v7_6_op.mat\n",
      "Saved to data/v7_6_combined_preproc/output/cam1234567_lane1_combined_v7_6_op_stop_info.mat\n",
      "\n",
      "----------------------------------------------------------------------\n",
      "Working on data/v7_6_combined_preproc/cam1234567_lane4_combined_v7_6.mat...\n",
      "Data position converted from [ft] to [m]\n",
      "(444900, 1)\n",
      "data/v7_6_combined_preproc/cam1234567_lane4_combined_v7_6.mat\n",
      "There are 594 vehicles in this dataset.\n"
     ]
    },
    {
     "name": "stderr",
     "output_type": "stream",
     "text": [
      "100%|██████████| 594/594 [00:21<00:00, 28.27it/s]\n"
     ]
    },
    {
     "name": "stdout",
     "output_type": "stream",
     "text": [
      "\n",
      "runtime = 21.50\n",
      "Saved to data/v7_6_combined_preproc/output/cam1234567_lane4_combined_v7_6.mat\n"
     ]
    },
    {
     "name": "stderr",
     "output_type": "stream",
     "text": [
      "100%|██████████| 594/594 [00:02<00:00, 253.14it/s]\n"
     ]
    },
    {
     "name": "stdout",
     "output_type": "stream",
     "text": [
      "\n",
      "runtime = 2.36\n",
      "Saved to data/v7_6_combined_preproc/output/cam1234567_lane4_combined_v7_6_op.mat\n",
      "Saved to data/v7_6_combined_preproc/output/cam1234567_lane4_combined_v7_6_op_stop_info.mat\n",
      "\n",
      "----------------------------------------------------------------------\n",
      "Working on data/v7_6_combined_preproc/cam1234567_lane2_combined_v7_6.mat...\n",
      "Data position converted from [ft] to [m]\n",
      "(430672, 1)\n",
      "data/v7_6_combined_preproc/cam1234567_lane2_combined_v7_6.mat\n",
      "There are 509 vehicles in this dataset.\n"
     ]
    },
    {
     "name": "stderr",
     "output_type": "stream",
     "text": [
      "100%|██████████| 509/509 [00:20<00:00, 25.38it/s]\n"
     ]
    },
    {
     "name": "stdout",
     "output_type": "stream",
     "text": [
      "\n",
      "runtime = 20.59\n",
      "Saved to data/v7_6_combined_preproc/output/cam1234567_lane2_combined_v7_6.mat\n"
     ]
    },
    {
     "name": "stderr",
     "output_type": "stream",
     "text": [
      "100%|██████████| 509/509 [00:01<00:00, 260.43it/s]\n"
     ]
    },
    {
     "name": "stdout",
     "output_type": "stream",
     "text": [
      "\n",
      "runtime = 1.97\n",
      "Saved to data/v7_6_combined_preproc/output/cam1234567_lane2_combined_v7_6_op.mat\n",
      "Saved to data/v7_6_combined_preproc/output/cam1234567_lane2_combined_v7_6_op_stop_info.mat\n",
      "\n",
      "----------------------------------------------------------------------\n",
      "Working on data/v7_6_combined_preproc/cam1234567_lane3_combined_v7_6.mat...\n",
      "Data position converted from [ft] to [m]\n",
      "(374091, 1)\n",
      "data/v7_6_combined_preproc/cam1234567_lane3_combined_v7_6.mat\n",
      "There are 523 vehicles in this dataset.\n"
     ]
    },
    {
     "name": "stderr",
     "output_type": "stream",
     "text": [
      "100%|██████████| 523/523 [00:17<00:00, 29.51it/s]\n"
     ]
    },
    {
     "name": "stdout",
     "output_type": "stream",
     "text": [
      "\n",
      "runtime = 18.38\n",
      "Saved to data/v7_6_combined_preproc/output/cam1234567_lane3_combined_v7_6.mat\n"
     ]
    },
    {
     "name": "stderr",
     "output_type": "stream",
     "text": [
      " 30%|███       | 158/523 [00:00<00:01, 265.98it/s]/Users/yuyichang/opt/anaconda3/lib/python3.9/site-packages/numpy/core/fromnumeric.py:3419: RuntimeWarning: Mean of empty slice.\n",
      "  return _methods._mean(a, axis=axis, dtype=dtype,\n",
      "/Users/yuyichang/opt/anaconda3/lib/python3.9/site-packages/numpy/core/_methods.py:188: RuntimeWarning: invalid value encountered in double_scalars\n",
      "  ret = ret.dtype.type(ret / rcount)\n",
      "100%|██████████| 523/523 [00:01<00:00, 297.12it/s]\n"
     ]
    },
    {
     "name": "stdout",
     "output_type": "stream",
     "text": [
      "\n",
      "runtime = 1.77\n",
      "Saved to data/v7_6_combined_preproc/output/cam1234567_lane3_combined_v7_6_op.mat\n",
      "Saved to data/v7_6_combined_preproc/output/cam1234567_lane3_combined_v7_6_op_stop_info.mat\n",
      "\n",
      "----------------------------------------------------------------------\n",
      "Working on data/v7_6_combined_preproc/cam1234567_lane6_combined_v7_6.mat...\n",
      "Data position converted from [ft] to [m]\n",
      "(386977, 1)\n",
      "data/v7_6_combined_preproc/cam1234567_lane6_combined_v7_6.mat\n",
      "There are 655 vehicles in this dataset.\n"
     ]
    },
    {
     "name": "stderr",
     "output_type": "stream",
     "text": [
      "100%|██████████| 655/655 [00:18<00:00, 35.95it/s] \n"
     ]
    },
    {
     "name": "stdout",
     "output_type": "stream",
     "text": [
      "\n",
      "runtime = 20.04\n",
      "Saved to data/v7_6_combined_preproc/output/cam1234567_lane6_combined_v7_6.mat\n"
     ]
    },
    {
     "name": "stderr",
     "output_type": "stream",
     "text": [
      "100%|██████████| 655/655 [00:02<00:00, 280.90it/s]\n"
     ]
    },
    {
     "name": "stdout",
     "output_type": "stream",
     "text": [
      "\n",
      "runtime = 2.35\n",
      "Saved to data/v7_6_combined_preproc/output/cam1234567_lane6_combined_v7_6_op.mat\n",
      "Saved to data/v7_6_combined_preproc/output/cam1234567_lane6_combined_v7_6_op_stop_info.mat\n"
     ]
    }
   ],
   "source": [
    "file_list = glob.glob(srcDataDir + '*.mat')\n",
    "print(\"Found \" + str(len(file_list)) + \" data files under \" + srcDataDir + \"\\n\")\n",
    "\n",
    "for file in file_list:\n",
    "    print(\"\\n----------------------------------------------------------------------\")\n",
    "    print(\"Working on \" + file + \"...\")\n",
    "\n",
    "    # load all cam data\n",
    "    if os.name == 'nt':\n",
    "        target_file_name = file.split('\\\\')[-1]\n",
    "    else:\n",
    "        target_file_name = file.split('/')[-1]\n",
    "        \n",
    "    data = f.load_data(srcDataDir + target_file_name, unit='foot')\n",
    "\n",
    "    sz = np.shape(data)\n",
    "\n",
    "    if sz[1] < 23:\n",
    "        tmp = np.zeros((sz[0], 23-sz[1]))\n",
    "        print(np.shape(tmp))\n",
    "        # data[:,22] = np.zeros((sz[0],))\n",
    "        data = np.hstack((data, tmp))\n",
    "\n",
    "\n",
    "    print(srcDataDir + target_file_name)\n",
    "    # get vehicle ID list\n",
    "    vidList = np.unique(data[:,0])\n",
    "    print('There are ' + str(len(vidList)) + ' vehicles in this dataset.')\n",
    "\n",
    "\n",
    "    ####### step 1\n",
    "    startTime = time.time() # time run time\n",
    "    dataStack = Parallel(n_jobs=8)(delayed(veh_motion_est)(data, vid) for vid in tqdm(vidList))\n",
    "    dataX = np.concatenate(dataStack)\n",
    "    print('\\nruntime = {:.2f}'.format(time.time() - startTime))\n",
    "\n",
    "    f.save_data_step1(dataX, srcDataDir + 'output/', target_file_name)\n",
    "\n",
    "    ##################################################################\n",
    "    ####### step 2\n",
    "    data = dataX.copy()             \n",
    "    vidList = np.unique(data[:,0])  # get vehicle ID list\n",
    "    startTime = time.time()         # time run time\n",
    "\n",
    "    ##################################################################\n",
    "    ##### step 2\n",
    "    dataS = data.copy()             # make a copy for stop processing\n",
    "    stopInfoAll = np.zeros((1,5))   # init stop info matrix\n",
    "    for vid in tqdm(vidList):\n",
    "        ind = dataS[:,0]==vid\n",
    "        dataVehS, isStopped, stopInfo = s2.ns_and_s_handle(dataS[ind, :])\n",
    "        if isStopped:\n",
    "            dataS[ind, :] = dataVehS\n",
    "            stopInfoAll = np.vstack((stopInfoAll, stopInfo))\n",
    "            \n",
    "    stopInfoAll = stopInfoAll[1:,:]\n",
    "\n",
    "    print('\\nruntime = {:.2f}'.format(time.time() - startTime))\n",
    "\n",
    "    f.save_data_step2(dataS, srcDataDir + 'output/', target_file_name.replace('.mat','') +  '_op.mat')\n",
    "    f.save_data(stopInfoAll, srcDataDir + 'output/', target_file_name.replace('.mat','') + '_op_stop_info.mat', \"stopInfo\")"
   ]
  }
 ],
 "metadata": {
  "interpreter": {
   "hash": "586ad1ed5c97141e2437e681efbf1ec0adcd17d830cf5af2ca3d2819e743e158"
  },
  "kernelspec": {
   "display_name": "Python 3.8.8 64-bit ('base': conda)",
   "language": "python",
   "name": "python3"
  },
  "language_info": {
   "codemirror_mode": {
    "name": "ipython",
    "version": 3
   },
   "file_extension": ".py",
   "mimetype": "text/x-python",
   "name": "python",
   "nbconvert_exporter": "python",
   "pygments_lexer": "ipython3",
   "version": "3.9.7"
  },
  "orig_nbformat": 4
 },
 "nbformat": 4,
 "nbformat_minor": 2
}

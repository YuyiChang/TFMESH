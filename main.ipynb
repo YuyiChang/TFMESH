{
 "cells": [
  {
   "cell_type": "code",
   "execution_count": 1,
   "metadata": {},
   "outputs": [],
   "source": [
    "import numpy as np\n",
    "import matplotlib.pyplot as plt\n",
    "import time\n",
    "\n",
    "import libStep1 as s1\n",
    "import libStep2 as s2\n",
    "import libFileio as f\n",
    "import importlib\n",
    "\n",
    "\n",
    "from tqdm import tqdm"
   ]
  },
  {
   "cell_type": "code",
   "execution_count": 5,
   "metadata": {},
   "outputs": [],
   "source": [
    "importlib.reload(f)\n",
    "importlib.reload(s1)\n",
    "importlib.reload(s2)\n",
    "\n",
    "srcDataDir = 'data/v7/'\n",
    "vNum = '7'"
   ]
  },
  {
   "cell_type": "markdown",
   "metadata": {},
   "source": [
    "# Load Data"
   ]
  },
  {
   "cell_type": "code",
   "execution_count": 8,
   "metadata": {},
   "outputs": [
    {
     "name": "stdout",
     "output_type": "stream",
     "text": [
      "Data position are ONLY converted to meter\n",
      "There are 443 vehicles in this dataset.\n"
     ]
    }
   ],
   "source": [
    "# load all cam data\n",
    "data_name = 'cam1234_lane3_combined_v' + vNum\n",
    "data = f.load_data(srcDataDir +  data_name + '.mat', scalePos=False)\n",
    "\n",
    "# get vehicle ID list\n",
    "vidList = np.unique(data[:,0])\n",
    "print('There are ' + str(len(vidList)) + ' vehicles in this dataset.')\n",
    "\n"
   ]
  },
  {
   "cell_type": "markdown",
   "metadata": {},
   "source": [
    "# Trajectory Fusing and Motion Estimation"
   ]
  },
  {
   "cell_type": "code",
   "execution_count": 4,
   "metadata": {},
   "outputs": [
    {
     "name": "stderr",
     "output_type": "stream",
     "text": [
      "100%|██████████| 470/470 [00:21<00:00, 21.71it/s]\n",
      "runtime = 21.65142059326172\n",
      "Saved to data/step1/lcv_cam1234_4567_v7.mat\n"
     ]
    }
   ],
   "source": [
    "# combine cam and motion est\n",
    "startTime = time.time() # time run time\n",
    "dataX = np.zeros((1,18))\n",
    "for vid in tqdm(vidList):\n",
    "    # get veh\n",
    "    dataVeh = f.get_veh(data, vid)\n",
    "    # est motion\n",
    "    dataTemp = s1.combine_cam_motion_est_ud(dataVeh)\n",
    "\n",
    "    dataX = np.concatenate((dataX, dataTemp), axis=0)\n",
    "\n",
    "    dataX = dataX[1:-1,:]\n",
    "\n",
    "print('\\n\\nruntime = ' + str(time.time() - startTime))\n",
    "\n",
    "f.save_data_step1(dataX, 'data/step1/', data_name + '.mat')\n",
    "   "
   ]
  },
  {
   "cell_type": "markdown",
   "metadata": {},
   "source": [
    "# Stop Handling"
   ]
  },
  {
   "cell_type": "code",
   "execution_count": 8,
   "metadata": {},
   "outputs": [
    {
     "name": "stderr",
     "output_type": "stream",
     "text": [
      "100%|██████████| 470/470 [00:00<00:00, 926.81it/s]\n",
      "\n",
      "runtime = 0.51511549949646\n",
      "Saved to data/step2/lcv_cam1234_4567_v7_op.mat\n",
      "Saved to data/step2/lcv_cam1234_4567_v7_op_stop_info.mat\n",
      "\n"
     ]
    }
   ],
   "source": [
    "##########################################################\n",
    "## Start step 2\n",
    "data = dataX.copy()\n",
    "\n",
    "#### \n",
    "# get vehicle ID list\n",
    "vidList = np.unique(data[:,0])\n",
    "# print('There are ' + str(len(vidList)) + ' vehicles in this dataset.')\n",
    "\n",
    "startTime = time.time() # time run time\n",
    "\n",
    "#################################\n",
    "##### step 2\n",
    "dataS = data.copy()\n",
    "stopInfoAll = np.zeros((1,5))\n",
    "for vid in tqdm(vidList):\n",
    "    ind = dataS[:,0]==vid\n",
    "    dataVehS, isStopped, stopInfo = s2.ns_and_s_handle(dataS[ind, :])\n",
    "    if isStopped:\n",
    "        dataS[ind, :] = dataVehS\n",
    "        stopInfoAll = np.vstack((stopInfoAll, stopInfo))\n",
    "        \n",
    "stopInfoAll = stopInfoAll[1:,:]\n",
    "\n",
    "print('\\n\\nruntime = ' + str(time.time() - startTime))\n",
    "\n",
    "f.save_data_step2(dataS, 'data/step2/', data_name + '_op.mat')\n",
    "f.save_data(stopInfoAll, 'data/step2/', data_name + '_op_stop_info.mat', \"stopInfo\")"
   ]
  }
 ],
 "metadata": {
  "kernelspec": {
   "display_name": "Python 3",
   "name": "python3"
  },
  "language_info": {
   "codemirror_mode": {
    "name": "ipython",
    "version": 3
   },
   "file_extension": ".py",
   "mimetype": "text/x-python",
   "name": "python",
   "nbconvert_exporter": "python",
   "pygments_lexer": "ipython3",
   "version": "3.8.3"
  },
  "orig_nbformat": 2
 },
 "nbformat": 4,
 "nbformat_minor": 2
}

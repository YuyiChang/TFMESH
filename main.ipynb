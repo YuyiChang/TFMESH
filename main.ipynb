{
 "cells": [
  {
   "cell_type": "markdown",
   "metadata": {},
   "source": [
    "# Trajectory fusing and motion estimation - NGSIM"
   ]
  },
  {
   "cell_type": "code",
   "execution_count": 1,
   "metadata": {},
   "outputs": [],
   "source": [
    "import numpy as np\n",
    "import matplotlib.pyplot as plt\n",
    "import time\n",
    "import warnings\n",
    "from tqdm import tqdm\n",
    "from joblib import Parallel, delayed\n",
    "import multiprocessing\n",
    "import os\n",
    "\n",
    "import libStep1 as s1\n",
    "import libStep2 as s2\n",
    "import libFileio as f\n",
    "import importlib\n",
    "\n",
    "import glob"
   ]
  },
  {
   "cell_type": "code",
   "execution_count": 2,
   "metadata": {},
   "outputs": [
    {
     "name": "stdout",
     "output_type": "stream",
     "text": [
      "data/v7_9_combined_preproc/\n"
     ]
    }
   ],
   "source": [
    "importlib.reload(f)\n",
    "importlib.reload(s1)\n",
    "importlib.reload(s2)\n",
    "\n",
    "# vNum = '7'\n",
    "# combType = 'combined'\n",
    "# srcDataDir = 'data/rawdata_' + combType + '_v' + vNum + '/'\n",
    "\n",
    "# OR, specify input data folder\n",
    "srcDataDir = 'data/v7_9_combined_preproc/' # NGSIM\n",
    "# srcDataDir = 'data/lidar_mini_test_220326/'\n",
    "\n",
    "# load configuration file\n",
    "config_file_path = 'config/ngsim.ini'\n",
    "\n",
    "print(srcDataDir)\n",
    "\n",
    "num_cores = multiprocessing.cpu_count()\n",
    "\n",
    "# create folder under srcDataDir for data output\n",
    "try:\n",
    "    os.mkdir(srcDataDir + 'output')\n",
    "except FileExistsError:\n",
    "    pass\n"
   ]
  },
  {
   "cell_type": "code",
   "execution_count": 3,
   "metadata": {},
   "outputs": [],
   "source": [
    "def veh_motion_est(data, vid, config_file_path=None):\n",
    "    # get vehicle\n",
    "    dataVeh = f.get_veh(data, vid)\n",
    "    # est motion\n",
    "    dataTemp = s1.combine_cam_motion_est_ud(dataVeh, config_file_path=config_file_path)\n",
    "    return dataTemp #, np.shape(dataTemp)[0]"
   ]
  },
  {
   "cell_type": "markdown",
   "metadata": {},
   "source": [
    "## i/o and step 1 and 2"
   ]
  },
  {
   "cell_type": "code",
   "execution_count": 4,
   "metadata": {},
   "outputs": [
    {
     "name": "stderr",
     "output_type": "stream",
     "text": [
      "  0%|          | 0/434 [00:00<?, ?it/s]"
     ]
    },
    {
     "name": "stdout",
     "output_type": "stream",
     "text": [
      "Found 6 data files under data/v7_9_combined_preproc/\n",
      "\n",
      "\n",
      "----------------------------------------------------------------------\n",
      "Working on data/v7_9_combined_preproc\\cam1234567_lane1_combined_v7_9.mat...\n",
      "Data position converted from [ft] to [m]\n",
      "(191349, 1)\n",
      "data/v7_9_combined_preproc/cam1234567_lane1_combined_v7_9.mat\n",
      "There are 434 vehicles in this dataset.\n"
     ]
    },
    {
     "name": "stderr",
     "output_type": "stream",
     "text": [
      "100%|██████████| 434/434 [00:04<00:00, 102.74it/s]\n"
     ]
    },
    {
     "name": "stdout",
     "output_type": "stream",
     "text": [
      "\n",
      "runtime = 4.61\n"
     ]
    },
    {
     "name": "stderr",
     "output_type": "stream",
     "text": [
      " 43%|████▎     | 185/434 [00:00<00:00, 1849.68it/s]"
     ]
    },
    {
     "name": "stdout",
     "output_type": "stream",
     "text": [
      "Saved to data/v7_9_combined_preproc/output/cam1234567_lane1_combined_v7_9.mat\n"
     ]
    },
    {
     "name": "stderr",
     "output_type": "stream",
     "text": [
      "100%|██████████| 434/434 [00:00<00:00, 1782.03it/s]\n"
     ]
    },
    {
     "name": "stdout",
     "output_type": "stream",
     "text": [
      "\n",
      "runtime = 0.25\n",
      "Saved to data/v7_9_combined_preproc/output/cam1234567_lane1_combined_v7_9_op.mat\n",
      "Saved to data/v7_9_combined_preproc/output/cam1234567_lane1_combined_v7_9_op_stop_info.mat\n",
      "\n",
      "----------------------------------------------------------------------\n",
      "Working on data/v7_9_combined_preproc\\cam1234567_lane2_combined_v7_9.mat...\n"
     ]
    },
    {
     "name": "stderr",
     "output_type": "stream",
     "text": [
      "  0%|          | 0/508 [00:00<?, ?it/s]"
     ]
    },
    {
     "name": "stdout",
     "output_type": "stream",
     "text": [
      "Data position converted from [ft] to [m]\n",
      "(423349, 1)\n",
      "data/v7_9_combined_preproc/cam1234567_lane2_combined_v7_9.mat\n",
      "There are 508 vehicles in this dataset.\n"
     ]
    },
    {
     "name": "stderr",
     "output_type": "stream",
     "text": [
      "100%|██████████| 508/508 [00:05<00:00, 90.76it/s] \n"
     ]
    },
    {
     "name": "stdout",
     "output_type": "stream",
     "text": [
      "\n",
      "runtime = 6.17\n"
     ]
    },
    {
     "name": "stderr",
     "output_type": "stream",
     "text": [
      " 14%|█▍        | 72/508 [00:00<00:00, 719.87it/s]"
     ]
    },
    {
     "name": "stdout",
     "output_type": "stream",
     "text": [
      "Saved to data/v7_9_combined_preproc/output/cam1234567_lane2_combined_v7_9.mat\n"
     ]
    },
    {
     "name": "stderr",
     "output_type": "stream",
     "text": [
      "100%|██████████| 508/508 [00:00<00:00, 644.56it/s]\n"
     ]
    },
    {
     "name": "stdout",
     "output_type": "stream",
     "text": [
      "\n",
      "runtime = 0.80\n",
      "Saved to data/v7_9_combined_preproc/output/cam1234567_lane2_combined_v7_9_op.mat\n",
      "Saved to data/v7_9_combined_preproc/output/cam1234567_lane2_combined_v7_9_op_stop_info.mat\n",
      "\n",
      "----------------------------------------------------------------------\n",
      "Working on data/v7_9_combined_preproc\\cam1234567_lane3_combined_v7_9.mat...\n",
      "Data position converted from [ft] to [m]\n"
     ]
    },
    {
     "name": "stderr",
     "output_type": "stream",
     "text": [
      "  0%|          | 0/523 [00:00<?, ?it/s]"
     ]
    },
    {
     "name": "stdout",
     "output_type": "stream",
     "text": [
      "(366394, 1)\n",
      "data/v7_9_combined_preproc/cam1234567_lane3_combined_v7_9.mat\n",
      "There are 523 vehicles in this dataset.\n"
     ]
    },
    {
     "name": "stderr",
     "output_type": "stream",
     "text": [
      "100%|██████████| 523/523 [00:04<00:00, 111.06it/s]\n"
     ]
    },
    {
     "name": "stdout",
     "output_type": "stream",
     "text": [
      "\n",
      "runtime = 5.39\n"
     ]
    },
    {
     "name": "stderr",
     "output_type": "stream",
     "text": [
      " 16%|█▋        | 86/523 [00:00<00:00, 855.57it/s]"
     ]
    },
    {
     "name": "stdout",
     "output_type": "stream",
     "text": [
      "Saved to data/v7_9_combined_preproc/output/cam1234567_lane3_combined_v7_9.mat\n"
     ]
    },
    {
     "name": "stderr",
     "output_type": "stream",
     "text": [
      " 30%|███       | 159/523 [00:00<00:00, 809.48it/s]c:\\Users\\chang\\.conda\\envs\\motion_est\\lib\\site-packages\\numpy\\core\\fromnumeric.py:3419: RuntimeWarning: Mean of empty slice.\n",
      "  return _methods._mean(a, axis=axis, dtype=dtype,\n",
      "c:\\Users\\chang\\.conda\\envs\\motion_est\\lib\\site-packages\\numpy\\core\\_methods.py:188: RuntimeWarning: invalid value encountered in double_scalars\n",
      "  ret = ret.dtype.type(ret / rcount)\n",
      "100%|██████████| 523/523 [00:00<00:00, 745.41it/s]\n"
     ]
    },
    {
     "name": "stdout",
     "output_type": "stream",
     "text": [
      "\n",
      "runtime = 0.71\n",
      "Saved to data/v7_9_combined_preproc/output/cam1234567_lane3_combined_v7_9_op.mat\n",
      "Saved to data/v7_9_combined_preproc/output/cam1234567_lane3_combined_v7_9_op_stop_info.mat\n",
      "\n",
      "----------------------------------------------------------------------\n",
      "Working on data/v7_9_combined_preproc\\cam1234567_lane4_combined_v7_9.mat...\n"
     ]
    },
    {
     "name": "stderr",
     "output_type": "stream",
     "text": [
      "  0%|          | 0/595 [00:00<?, ?it/s]"
     ]
    },
    {
     "name": "stdout",
     "output_type": "stream",
     "text": [
      "Data position converted from [ft] to [m]\n",
      "(430460, 1)\n",
      "data/v7_9_combined_preproc/cam1234567_lane4_combined_v7_9.mat\n",
      "There are 595 vehicles in this dataset.\n"
     ]
    },
    {
     "name": "stderr",
     "output_type": "stream",
     "text": [
      "100%|██████████| 595/595 [00:05<00:00, 106.41it/s]\n"
     ]
    },
    {
     "name": "stdout",
     "output_type": "stream",
     "text": [
      "\n",
      "runtime = 6.36\n"
     ]
    },
    {
     "name": "stderr",
     "output_type": "stream",
     "text": [
      " 12%|█▏        | 71/595 [00:00<00:00, 706.34it/s]"
     ]
    },
    {
     "name": "stdout",
     "output_type": "stream",
     "text": [
      "Saved to data/v7_9_combined_preproc/output/cam1234567_lane4_combined_v7_9.mat\n"
     ]
    },
    {
     "name": "stderr",
     "output_type": "stream",
     "text": [
      "100%|██████████| 595/595 [00:00<00:00, 602.12it/s]\n"
     ]
    },
    {
     "name": "stdout",
     "output_type": "stream",
     "text": [
      "\n",
      "runtime = 1.00\n",
      "Saved to data/v7_9_combined_preproc/output/cam1234567_lane4_combined_v7_9_op.mat\n",
      "Saved to data/v7_9_combined_preproc/output/cam1234567_lane4_combined_v7_9_op_stop_info.mat\n",
      "\n",
      "----------------------------------------------------------------------\n",
      "Working on data/v7_9_combined_preproc\\cam1234567_lane5_combined_v7_9.mat...\n"
     ]
    },
    {
     "name": "stderr",
     "output_type": "stream",
     "text": [
      "  0%|          | 0/616 [00:00<?, ?it/s]"
     ]
    },
    {
     "name": "stdout",
     "output_type": "stream",
     "text": [
      "Data position converted from [ft] to [m]\n",
      "(393605, 1)\n",
      "data/v7_9_combined_preproc/cam1234567_lane5_combined_v7_9.mat\n",
      "There are 616 vehicles in this dataset.\n"
     ]
    },
    {
     "name": "stderr",
     "output_type": "stream",
     "text": [
      "100%|██████████| 616/616 [00:05<00:00, 117.84it/s]\n"
     ]
    },
    {
     "name": "stdout",
     "output_type": "stream",
     "text": [
      "\n",
      "runtime = 6.14\n"
     ]
    },
    {
     "name": "stderr",
     "output_type": "stream",
     "text": [
      " 12%|█▏        | 76/616 [00:00<00:00, 752.35it/s]"
     ]
    },
    {
     "name": "stdout",
     "output_type": "stream",
     "text": [
      "Saved to data/v7_9_combined_preproc/output/cam1234567_lane5_combined_v7_9.mat\n"
     ]
    },
    {
     "name": "stderr",
     "output_type": "stream",
     "text": [
      "100%|██████████| 616/616 [00:00<00:00, 628.46it/s]\n"
     ]
    },
    {
     "name": "stdout",
     "output_type": "stream",
     "text": [
      "\n",
      "runtime = 0.99\n",
      "Saved to data/v7_9_combined_preproc/output/cam1234567_lane5_combined_v7_9_op.mat\n",
      "Saved to data/v7_9_combined_preproc/output/cam1234567_lane5_combined_v7_9_op_stop_info.mat\n",
      "\n",
      "----------------------------------------------------------------------\n",
      "Working on data/v7_9_combined_preproc\\cam1234567_lane6_combined_v7_9.mat...\n"
     ]
    },
    {
     "name": "stderr",
     "output_type": "stream",
     "text": [
      "  0%|          | 0/652 [00:00<?, ?it/s]"
     ]
    },
    {
     "name": "stdout",
     "output_type": "stream",
     "text": [
      "Data position converted from [ft] to [m]\n",
      "(374145, 1)\n",
      "data/v7_9_combined_preproc/cam1234567_lane6_combined_v7_9.mat\n",
      "There are 652 vehicles in this dataset.\n"
     ]
    },
    {
     "name": "stderr",
     "output_type": "stream",
     "text": [
      "100%|██████████| 652/652 [00:04<00:00, 135.54it/s]\n"
     ]
    },
    {
     "name": "stdout",
     "output_type": "stream",
     "text": [
      "\n",
      "runtime = 5.57\n"
     ]
    },
    {
     "name": "stderr",
     "output_type": "stream",
     "text": [
      "  9%|▉         | 61/652 [00:00<00:00, 603.85it/s]"
     ]
    },
    {
     "name": "stdout",
     "output_type": "stream",
     "text": [
      "Saved to data/v7_9_combined_preproc/output/cam1234567_lane6_combined_v7_9.mat\n"
     ]
    },
    {
     "name": "stderr",
     "output_type": "stream",
     "text": [
      "100%|██████████| 652/652 [00:00<00:00, 708.19it/s]\n"
     ]
    },
    {
     "name": "stdout",
     "output_type": "stream",
     "text": [
      "\n",
      "runtime = 0.93\n",
      "Saved to data/v7_9_combined_preproc/output/cam1234567_lane6_combined_v7_9_op.mat\n",
      "Saved to data/v7_9_combined_preproc/output/cam1234567_lane6_combined_v7_9_op_stop_info.mat\n"
     ]
    }
   ],
   "source": [
    "file_list = glob.glob(srcDataDir + '*.mat')\n",
    "print(\"Found \" + str(len(file_list)) + \" data files under \" + srcDataDir + \"\\n\")\n",
    "\n",
    "for file in file_list:\n",
    "    print(\"\\n----------------------------------------------------------------------\")\n",
    "    print(\"Working on \" + file + \"...\")\n",
    "\n",
    "    # load all cam data\n",
    "    if os.name == 'nt':\n",
    "        target_file_name = file.split('\\\\')[-1]\n",
    "    else:\n",
    "        target_file_name = file.split('/')[-1]\n",
    "        \n",
    "    data = f.load_data(srcDataDir + target_file_name, unit='foot')\n",
    "\n",
    "    sz = np.shape(data)\n",
    "\n",
    "    if sz[1] < 23:\n",
    "        tmp = np.zeros((sz[0], 23-sz[1]))\n",
    "        print(np.shape(tmp))\n",
    "        # data[:,22] = np.zeros((sz[0],))\n",
    "        data = np.hstack((data, tmp))\n",
    "\n",
    "\n",
    "    print(srcDataDir + target_file_name)\n",
    "    # get vehicle ID list\n",
    "    vidList = np.unique(data[:,0])\n",
    "    print('There are ' + str(len(vidList)) + ' vehicles in this dataset.')\n",
    "\n",
    "\n",
    "    ####### step 1\n",
    "    startTime = time.time() # time run time\n",
    "    dataStack = Parallel(n_jobs=8)(delayed(veh_motion_est)(data, vid, config_file_path=config_file_path) for vid in tqdm(vidList))\n",
    "    dataX = np.concatenate(dataStack)\n",
    "    print('\\nruntime = {:.2f}'.format(time.time() - startTime))\n",
    "\n",
    "    f.save_data_step1(dataX, srcDataDir + 'output/', target_file_name)\n",
    "\n",
    "    ##################################################################\n",
    "    ####### step 2\n",
    "    data = dataX.copy()             \n",
    "    vidList = np.unique(data[:,0])  # get vehicle ID list\n",
    "    startTime = time.time()         # time run time\n",
    "\n",
    "    ##################################################################\n",
    "    ##### step 2\n",
    "    dataS = data.copy()             # make a copy for stop processing\n",
    "    stopInfoAll = np.zeros((1,5))   # init stop info matrix\n",
    "    for vid in tqdm(vidList):\n",
    "        ind = dataS[:,0]==vid\n",
    "        dataVehS, isStopped, stopInfo = s2.ns_and_s_handle(dataS[ind, :])\n",
    "        if isStopped:\n",
    "            dataS[ind, :] = dataVehS\n",
    "            stopInfoAll = np.vstack((stopInfoAll, stopInfo))\n",
    "            \n",
    "    stopInfoAll = stopInfoAll[1:,:]\n",
    "\n",
    "    print('\\nruntime = {:.2f}'.format(time.time() - startTime))\n",
    "\n",
    "    f.save_data_step2(dataS, srcDataDir + 'output/', target_file_name.replace('.mat','') +  '_op.mat')\n",
    "    f.save_data(stopInfoAll, srcDataDir + 'output/', target_file_name.replace('.mat','') + '_op_stop_info.mat', \"stopInfo\")"
   ]
  },
  {
   "cell_type": "code",
   "execution_count": null,
   "metadata": {},
   "outputs": [],
   "source": []
  }
 ],
 "metadata": {
  "interpreter": {
   "hash": "f695fec316d7c87d42b74d3708f2794337731e84d73a2685a04cd9786d027334"
  },
  "kernelspec": {
   "display_name": "Python 3.9.2 ('motion_est')",
   "language": "python",
   "name": "python3"
  },
  "language_info": {
   "codemirror_mode": {
    "name": "ipython",
    "version": 3
   },
   "file_extension": ".py",
   "mimetype": "text/x-python",
   "name": "python",
   "nbconvert_exporter": "python",
   "pygments_lexer": "ipython3",
   "version": "3.9.2"
  }
 },
 "nbformat": 4,
 "nbformat_minor": 2
}

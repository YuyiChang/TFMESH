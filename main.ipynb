{
 "cells": [
  {
   "cell_type": "markdown",
   "metadata": {},
   "source": [
    "# Trajectory fusing and motion estimation - NGSIM"
   ]
  },
  {
   "cell_type": "code",
   "execution_count": 1,
   "metadata": {},
   "outputs": [],
   "source": [
    "import numpy as np\n",
    "import matplotlib.pyplot as plt\n",
    "import time\n",
    "import warnings\n",
    "from tqdm import tqdm\n",
    "from joblib import Parallel, delayed\n",
    "import multiprocessing\n",
    "import os\n",
    "\n",
    "import libStep1 as s1\n",
    "import libStep2 as s2\n",
    "import libFileio as f\n",
    "import importlib\n",
    "\n",
    "import glob"
   ]
  },
  {
   "cell_type": "code",
   "execution_count": 3,
   "metadata": {},
   "outputs": [
    {
     "name": "stdout",
     "output_type": "stream",
     "text": [
      "data/rawdata_combined_v7/\n"
     ]
    }
   ],
   "source": [
    "importlib.reload(f)\n",
    "importlib.reload(s1)\n",
    "importlib.reload(s2)\n",
    "\n",
    "# vNum = '7'\n",
    "# combType = 'combined'\n",
    "# srcDataDir = 'data/rawdata_' + combType + '_v' + vNum + '/'\n",
    "\n",
    "# OR, specify input data folder\n",
    "srcDataDir = 'data/rawdata_combined_v7/' # NGSIM\n",
    "# srcDataDir = 'data/lidar_mini_test_220326/'\n",
    "\n",
    "print(srcDataDir)\n",
    "\n",
    "num_cores = multiprocessing.cpu_count()\n",
    "\n",
    "# create folder under srcDataDir for data output\n",
    "try:\n",
    "    os.mkdir(srcDataDir + 'output')\n",
    "except FileExistsError:\n",
    "    pass\n"
   ]
  },
  {
   "cell_type": "code",
   "execution_count": 4,
   "metadata": {},
   "outputs": [],
   "source": [
    "def veh_motion_est(data, vid):\n",
    "    # get vehicle\n",
    "    dataVeh = f.get_veh(data, vid)\n",
    "    # est motion\n",
    "    dataTemp = s1.combine_cam_motion_est_ud(dataVeh)\n",
    "    return dataTemp #, np.shape(dataTemp)[0]"
   ]
  },
  {
   "cell_type": "markdown",
   "metadata": {},
   "source": [
    "## i/o and step 1 and 2"
   ]
  },
  {
   "cell_type": "code",
   "execution_count": 5,
   "metadata": {},
   "outputs": [
    {
     "name": "stdout",
     "output_type": "stream",
     "text": [
      "Found 1 data files under data/rawdata_combined_v7/\n",
      "\n",
      "\n",
      "----------------------------------------------------------------------\n",
      "Working on data/rawdata_combined_v7/cam1234_lane1_combined_v7.mat...\n",
      "Data position already in [m]]\n",
      "(87652, 4)\n",
      "data/rawdata_combined_v7/cam1234_lane1_combined_v7.mat\n",
      "There are 412 vehicles in this dataset.\n"
     ]
    },
    {
     "name": "stderr",
     "output_type": "stream",
     "text": [
      "100%|██████████| 412/412 [00:07<00:00, 53.72it/s] \n"
     ]
    },
    {
     "name": "stdout",
     "output_type": "stream",
     "text": [
      "\n",
      "runtime = 8.62\n",
      "Saved to data/rawdata_combined_v7/output/cam1234_lane1_combined_v7.mat\n"
     ]
    },
    {
     "name": "stderr",
     "output_type": "stream",
     "text": [
      "100%|██████████| 412/412 [00:00<00:00, 1236.02it/s]\n"
     ]
    },
    {
     "name": "stdout",
     "output_type": "stream",
     "text": [
      "\n",
      "runtime = 0.34\n",
      "Saved to data/rawdata_combined_v7/output/cam1234_lane1_combined_v7_op.mat\n",
      "Saved to data/rawdata_combined_v7/output/cam1234_lane1_combined_v7_op_stop_info.mat\n"
     ]
    }
   ],
   "source": [
    "file_list = glob.glob(srcDataDir + '*.mat')\n",
    "print(\"Found \" + str(len(file_list)) + \" data files under \" + srcDataDir + \"\\n\")\n",
    "\n",
    "for file in file_list:\n",
    "    print(\"\\n----------------------------------------------------------------------\")\n",
    "    print(\"Working on \" + file + \"...\")\n",
    "\n",
    "    # load all cam data\n",
    "    if os.name == 'nt':\n",
    "        target_file_name = file.split('\\\\')[-1]\n",
    "    else:\n",
    "        target_file_name = file.split('/')[-1]\n",
    "        \n",
    "    data = f.load_data(srcDataDir + target_file_name, unit='meter')\n",
    "\n",
    "    sz = np.shape(data)\n",
    "\n",
    "    if sz[1] < 23:\n",
    "        tmp = np.zeros((sz[0], 23-sz[1]))\n",
    "        print(np.shape(tmp))\n",
    "        # data[:,22] = np.zeros((sz[0],))\n",
    "        data = np.hstack((data, tmp))\n",
    "\n",
    "\n",
    "    print(srcDataDir + target_file_name)\n",
    "    # get vehicle ID list\n",
    "    vidList = np.unique(data[:,0])\n",
    "    print('There are ' + str(len(vidList)) + ' vehicles in this dataset.')\n",
    "\n",
    "\n",
    "    ####### step 1\n",
    "    startTime = time.time() # time run time\n",
    "    dataStack = Parallel(n_jobs=8)(delayed(veh_motion_est)(data, vid) for vid in tqdm(vidList))\n",
    "    dataX = np.concatenate(dataStack)\n",
    "    print('\\nruntime = {:.2f}'.format(time.time() - startTime))\n",
    "\n",
    "    f.save_data_step1(dataX, srcDataDir + 'output/', target_file_name)\n",
    "\n",
    "    ##################################################################\n",
    "    ####### step 2\n",
    "    data = dataX.copy()             \n",
    "    vidList = np.unique(data[:,0])  # get vehicle ID list\n",
    "    startTime = time.time()         # time run time\n",
    "\n",
    "    ##################################################################\n",
    "    ##### step 2\n",
    "    dataS = data.copy()             # make a copy for stop processing\n",
    "    stopInfoAll = np.zeros((1,5))   # init stop info matrix\n",
    "    for vid in tqdm(vidList):\n",
    "        ind = dataS[:,0]==vid\n",
    "        dataVehS, isStopped, stopInfo = s2.ns_and_s_handle(dataS[ind, :])\n",
    "        if isStopped:\n",
    "            dataS[ind, :] = dataVehS\n",
    "            stopInfoAll = np.vstack((stopInfoAll, stopInfo))\n",
    "            \n",
    "    stopInfoAll = stopInfoAll[1:,:]\n",
    "\n",
    "    print('\\nruntime = {:.2f}'.format(time.time() - startTime))\n",
    "\n",
    "    f.save_data_step2(dataS, srcDataDir + 'output/', target_file_name.replace('.mat','') +  '_op.mat')\n",
    "    f.save_data(stopInfoAll, srcDataDir + 'output/', target_file_name.replace('.mat','') + '_op_stop_info.mat', \"stopInfo\")"
   ]
  }
 ],
 "metadata": {
  "interpreter": {
   "hash": "586ad1ed5c97141e2437e681efbf1ec0adcd17d830cf5af2ca3d2819e743e158"
  },
  "kernelspec": {
   "display_name": "Python 3.8.8 64-bit ('base': conda)",
   "language": "python",
   "name": "python3"
  },
  "language_info": {
   "codemirror_mode": {
    "name": "ipython",
    "version": 3
   },
   "file_extension": ".py",
   "mimetype": "text/x-python",
   "name": "python",
   "nbconvert_exporter": "python",
   "pygments_lexer": "ipython3",
   "version": "3.9.7"
  },
  "orig_nbformat": 4
 },
 "nbformat": 4,
 "nbformat_minor": 2
}

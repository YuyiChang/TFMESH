{
 "cells": [
  {
   "cell_type": "markdown",
   "metadata": {},
   "source": [
    "# Trajectory fusing and motion estimation - NGSIM"
   ]
  },
  {
   "cell_type": "code",
   "execution_count": 1,
   "metadata": {},
   "outputs": [],
   "source": [
    "import numpy as np\n",
    "import matplotlib.pyplot as plt\n",
    "import time\n",
    "import warnings\n",
    "from tqdm import tqdm\n",
    "from joblib import Parallel, delayed\n",
    "import multiprocessing\n",
    "import os\n",
    "\n",
    "import libStep1 as s1\n",
    "import libStep2 as s2\n",
    "import libFileio as f\n",
    "import importlib\n",
    "\n",
    "import glob"
   ]
  },
  {
   "cell_type": "code",
   "execution_count": 2,
   "metadata": {},
   "outputs": [
    {
     "name": "stdout",
     "output_type": "stream",
     "text": [
      "data/v7_2_combined_preproc/\n"
     ]
    }
   ],
   "source": [
    "importlib.reload(f)\n",
    "importlib.reload(s1)\n",
    "importlib.reload(s2)\n",
    "\n",
    "vNum = '7'\n",
    "combType = 'combined'\n",
    "srcDataDir = 'data/rawdata_' + combType + '_v' + vNum + '/'\n",
    "\n",
    "srcDataDir = 'data/v7_2_combined_preproc/'\n",
    "print(srcDataDir)\n",
    "\n",
    "num_cores = multiprocessing.cpu_count()\n",
    "\n",
    "# create folder under srcDataDir for data output\n",
    "try:\n",
    "    os.mkdir(srcDataDir + 'output')\n",
    "except FileExistsError:\n",
    "    pass\n"
   ]
  },
  {
   "cell_type": "code",
   "execution_count": 3,
   "metadata": {},
   "outputs": [],
   "source": [
    "def veh_motion_est(data, vid):\n",
    "    # get vehicle\n",
    "    dataVeh = f.get_veh(data, vid)\n",
    "    # est motion\n",
    "    dataTemp = s1.combine_cam_motion_est_ud(dataVeh)\n",
    "    return dataTemp #, np.shape(dataTemp)[0]"
   ]
  },
  {
   "cell_type": "markdown",
   "metadata": {},
   "source": [
    "## i/o and step 1 and 2"
   ]
  },
  {
   "cell_type": "code",
   "execution_count": 8,
   "metadata": {},
   "outputs": [
    {
     "name": "stderr",
     "output_type": "stream",
     "text": [
      "  0%|          | 0/433 [00:00<?, ?it/s]"
     ]
    },
    {
     "name": "stdout",
     "output_type": "stream",
     "text": [
      "Found 6 data files under data/v7_2_combined_preproc/\n",
      "\n",
      "\n",
      "----------------------------------------------------------------------\n",
      "Working on data/v7_2_combined_preproc\\sft_cam1234567_lane1_datawithID_v2.mat...\n",
      "Data position are ONLY converted to meter\n",
      "(186936, 4)\n",
      "data/v7_2_combined_preproc/sft_cam1234567_lane1_datawithID_v2.mat\n",
      "There are 433 vehicles in this dataset.\n"
     ]
    },
    {
     "name": "stderr",
     "output_type": "stream",
     "text": [
      "100%|██████████| 433/433 [00:03<00:00, 112.75it/s]\n"
     ]
    },
    {
     "name": "stdout",
     "output_type": "stream",
     "text": [
      "\n",
      "runtime = 4.412064075469971\n"
     ]
    },
    {
     "name": "stderr",
     "output_type": "stream",
     "text": [
      "100%|██████████| 433/433 [00:00<00:00, 2194.20it/s]"
     ]
    },
    {
     "name": "stdout",
     "output_type": "stream",
     "text": [
      "Saved to data/v7_2_combined_preproc/output/sft_cam1234567_lane1_datawithID_v2.mat\n"
     ]
    },
    {
     "name": "stderr",
     "output_type": "stream",
     "text": [
      "\n"
     ]
    },
    {
     "name": "stdout",
     "output_type": "stream",
     "text": [
      "\n",
      "runtime = 0.20133709907531738\n"
     ]
    },
    {
     "name": "stderr",
     "output_type": "stream",
     "text": [
      "  0%|          | 0/508 [00:00<?, ?it/s]"
     ]
    },
    {
     "name": "stdout",
     "output_type": "stream",
     "text": [
      "Saved to data/v7_2_combined_preproc/output/sft_cam1234567_lane1_datawithID_v2_op.mat\n",
      "Saved to data/v7_2_combined_preproc/output/sft_cam1234567_lane1_datawithID_v2_op_stop_info.mat\n",
      "\n",
      "----------------------------------------------------------------------\n",
      "Working on data/v7_2_combined_preproc\\sft_cam1234567_lane2_datawithID_v2.mat...\n",
      "Data position are ONLY converted to meter\n",
      "(415924, 4)\n",
      "data/v7_2_combined_preproc/sft_cam1234567_lane2_datawithID_v2.mat\n",
      "There are 508 vehicles in this dataset.\n"
     ]
    },
    {
     "name": "stderr",
     "output_type": "stream",
     "text": [
      "100%|██████████| 508/508 [00:05<00:00, 88.15it/s]\n"
     ]
    },
    {
     "name": "stdout",
     "output_type": "stream",
     "text": [
      "\n",
      "runtime = 6.297595500946045\n"
     ]
    },
    {
     "name": "stderr",
     "output_type": "stream",
     "text": [
      " 17%|█▋        | 84/508 [00:00<00:00, 817.98it/s]"
     ]
    },
    {
     "name": "stdout",
     "output_type": "stream",
     "text": [
      "Saved to data/v7_2_combined_preproc/output/sft_cam1234567_lane2_datawithID_v2.mat\n"
     ]
    },
    {
     "name": "stderr",
     "output_type": "stream",
     "text": [
      "100%|██████████| 508/508 [00:00<00:00, 746.09it/s]\n"
     ]
    },
    {
     "name": "stdout",
     "output_type": "stream",
     "text": [
      "\n",
      "runtime = 0.6888878345489502\n"
     ]
    },
    {
     "name": "stderr",
     "output_type": "stream",
     "text": [
      "  0%|          | 0/522 [00:00<?, ?it/s]"
     ]
    },
    {
     "name": "stdout",
     "output_type": "stream",
     "text": [
      "Saved to data/v7_2_combined_preproc/output/sft_cam1234567_lane2_datawithID_v2_op.mat\n",
      "Saved to data/v7_2_combined_preproc/output/sft_cam1234567_lane2_datawithID_v2_op_stop_info.mat\n",
      "\n",
      "----------------------------------------------------------------------\n",
      "Working on data/v7_2_combined_preproc\\sft_cam1234567_lane3_datawithID_v2.mat...\n",
      "Data position are ONLY converted to meter\n",
      "(358202, 4)\n",
      "data/v7_2_combined_preproc/sft_cam1234567_lane3_datawithID_v2.mat\n",
      "There are 522 vehicles in this dataset.\n"
     ]
    },
    {
     "name": "stderr",
     "output_type": "stream",
     "text": [
      "100%|██████████| 522/522 [00:04<00:00, 105.36it/s]\n"
     ]
    },
    {
     "name": "stdout",
     "output_type": "stream",
     "text": [
      "\n",
      "runtime = 5.535952568054199\n"
     ]
    },
    {
     "name": "stderr",
     "output_type": "stream",
     "text": [
      " 18%|█▊        | 95/522 [00:00<00:00, 941.51it/s]"
     ]
    },
    {
     "name": "stdout",
     "output_type": "stream",
     "text": [
      "Saved to data/v7_2_combined_preproc/output/sft_cam1234567_lane3_datawithID_v2.mat\n"
     ]
    },
    {
     "name": "stderr",
     "output_type": "stream",
     "text": [
      " 35%|███▍      | 182/522 [00:00<00:00, 918.31it/s]C:\\Users\\chang\\.conda\\envs\\motion_est\\lib\\site-packages\\numpy\\core\\fromnumeric.py:3419: RuntimeWarning: Mean of empty slice.\n",
      "  return _methods._mean(a, axis=axis, dtype=dtype,\n",
      "C:\\Users\\chang\\.conda\\envs\\motion_est\\lib\\site-packages\\numpy\\core\\_methods.py:188: RuntimeWarning: invalid value encountered in double_scalars\n",
      "  ret = ret.dtype.type(ret / rcount)\n",
      "100%|██████████| 522/522 [00:00<00:00, 794.73it/s]\n"
     ]
    },
    {
     "name": "stdout",
     "output_type": "stream",
     "text": [
      "\n",
      "runtime = 0.6668157577514648\n"
     ]
    },
    {
     "name": "stderr",
     "output_type": "stream",
     "text": [
      "  0%|          | 0/593 [00:00<?, ?it/s]"
     ]
    },
    {
     "name": "stdout",
     "output_type": "stream",
     "text": [
      "Saved to data/v7_2_combined_preproc/output/sft_cam1234567_lane3_datawithID_v2_op.mat\n",
      "Saved to data/v7_2_combined_preproc/output/sft_cam1234567_lane3_datawithID_v2_op_stop_info.mat\n",
      "\n",
      "----------------------------------------------------------------------\n",
      "Working on data/v7_2_combined_preproc\\sft_cam1234567_lane4_datawithID_v2.mat...\n",
      "Data position are ONLY converted to meter\n",
      "(426175, 4)\n",
      "data/v7_2_combined_preproc/sft_cam1234567_lane4_datawithID_v2.mat\n",
      "There are 593 vehicles in this dataset.\n"
     ]
    },
    {
     "name": "stderr",
     "output_type": "stream",
     "text": [
      "100%|██████████| 593/593 [00:05<00:00, 99.94it/s] \n"
     ]
    },
    {
     "name": "stdout",
     "output_type": "stream",
     "text": [
      "\n",
      "runtime = 6.331528902053833\n"
     ]
    },
    {
     "name": "stderr",
     "output_type": "stream",
     "text": [
      " 13%|█▎        | 76/593 [00:00<00:00, 708.31it/s]"
     ]
    },
    {
     "name": "stdout",
     "output_type": "stream",
     "text": [
      "Saved to data/v7_2_combined_preproc/output/sft_cam1234567_lane4_datawithID_v2.mat\n"
     ]
    },
    {
     "name": "stderr",
     "output_type": "stream",
     "text": [
      "100%|██████████| 593/593 [00:00<00:00, 677.71it/s]\n"
     ]
    },
    {
     "name": "stdout",
     "output_type": "stream",
     "text": [
      "\n",
      "runtime = 0.882946252822876\n"
     ]
    },
    {
     "name": "stderr",
     "output_type": "stream",
     "text": [
      "  0%|          | 0/603 [00:00<?, ?it/s]"
     ]
    },
    {
     "name": "stdout",
     "output_type": "stream",
     "text": [
      "Saved to data/v7_2_combined_preproc/output/sft_cam1234567_lane4_datawithID_v2_op.mat\n",
      "Saved to data/v7_2_combined_preproc/output/sft_cam1234567_lane4_datawithID_v2_op_stop_info.mat\n",
      "\n",
      "----------------------------------------------------------------------\n",
      "Working on data/v7_2_combined_preproc\\sft_cam1234567_lane5_datawithID_v2.mat...\n",
      "Data position are ONLY converted to meter\n",
      "(385471, 4)\n",
      "data/v7_2_combined_preproc/sft_cam1234567_lane5_datawithID_v2.mat\n",
      "There are 603 vehicles in this dataset.\n"
     ]
    },
    {
     "name": "stderr",
     "output_type": "stream",
     "text": [
      "100%|██████████| 603/603 [00:05<00:00, 115.71it/s]\n"
     ]
    },
    {
     "name": "stdout",
     "output_type": "stream",
     "text": [
      "\n",
      "runtime = 5.79807710647583\n"
     ]
    },
    {
     "name": "stderr",
     "output_type": "stream",
     "text": [
      " 14%|█▍        | 84/603 [00:00<00:00, 829.84it/s]"
     ]
    },
    {
     "name": "stdout",
     "output_type": "stream",
     "text": [
      "Saved to data/v7_2_combined_preproc/output/sft_cam1234567_lane5_datawithID_v2.mat\n"
     ]
    },
    {
     "name": "stderr",
     "output_type": "stream",
     "text": [
      "100%|██████████| 603/603 [00:00<00:00, 710.13it/s]\n"
     ]
    },
    {
     "name": "stdout",
     "output_type": "stream",
     "text": [
      "\n",
      "runtime = 0.8591334819793701\n"
     ]
    },
    {
     "name": "stderr",
     "output_type": "stream",
     "text": [
      "  0%|          | 0/634 [00:00<?, ?it/s]"
     ]
    },
    {
     "name": "stdout",
     "output_type": "stream",
     "text": [
      "Saved to data/v7_2_combined_preproc/output/sft_cam1234567_lane5_datawithID_v2_op.mat\n",
      "Saved to data/v7_2_combined_preproc/output/sft_cam1234567_lane5_datawithID_v2_op_stop_info.mat\n",
      "\n",
      "----------------------------------------------------------------------\n",
      "Working on data/v7_2_combined_preproc\\sft_cam1234567_lane6_datawithID_v2.mat...\n",
      "Data position are ONLY converted to meter\n",
      "(393459, 4)\n",
      "data/v7_2_combined_preproc/sft_cam1234567_lane6_datawithID_v2.mat\n",
      "There are 634 vehicles in this dataset.\n"
     ]
    },
    {
     "name": "stderr",
     "output_type": "stream",
     "text": [
      "100%|██████████| 634/634 [00:05<00:00, 125.42it/s]\n"
     ]
    },
    {
     "name": "stdout",
     "output_type": "stream",
     "text": [
      "\n",
      "runtime = 5.388255596160889\n"
     ]
    },
    {
     "name": "stderr",
     "output_type": "stream",
     "text": [
      " 12%|█▏        | 75/634 [00:00<00:00, 745.90it/s]"
     ]
    },
    {
     "name": "stdout",
     "output_type": "stream",
     "text": [
      "Saved to data/v7_2_combined_preproc/output/sft_cam1234567_lane6_datawithID_v2.mat\n"
     ]
    },
    {
     "name": "stderr",
     "output_type": "stream",
     "text": [
      "100%|██████████| 634/634 [00:00<00:00, 826.82it/s]\n"
     ]
    },
    {
     "name": "stdout",
     "output_type": "stream",
     "text": [
      "\n",
      "runtime = 0.7737960815429688\n",
      "Saved to data/v7_2_combined_preproc/output/sft_cam1234567_lane6_datawithID_v2_op.mat\n",
      "Saved to data/v7_2_combined_preproc/output/sft_cam1234567_lane6_datawithID_v2_op_stop_info.mat\n"
     ]
    }
   ],
   "source": [
    "file_list = glob.glob(srcDataDir + '*.mat')\n",
    "print(\"Found \" + str(len(file_list)) + \" data files under \" + srcDataDir + \"\\n\")\n",
    "\n",
    "for file in file_list:\n",
    "    print(\"\\n----------------------------------------------------------------------\")\n",
    "    print(\"Working on \" + file + \"...\")\n",
    "\n",
    "    # load all cam data\n",
    "    if os.name == 'nt':\n",
    "        target_file_name = file.split('\\\\')[-1]\n",
    "    else:\n",
    "        target_file_name = file.split('/')[-1]\n",
    "        \n",
    "    data = f.load_data(srcDataDir + target_file_name, scalePos=False)\n",
    "\n",
    "    sz = np.shape(data)\n",
    "\n",
    "    if sz[1] < 23:\n",
    "        tmp = np.zeros((sz[0], 23-sz[1]))\n",
    "        print(np.shape(tmp))\n",
    "        # data[:,22] = np.zeros((sz[0],))\n",
    "        data = np.hstack((data, tmp))\n",
    "\n",
    "\n",
    "    print(srcDataDir + target_file_name)\n",
    "    # get vehicle ID list\n",
    "    vidList = np.unique(data[:,0])\n",
    "    print('There are ' + str(len(vidList)) + ' vehicles in this dataset.')\n",
    "\n",
    "\n",
    "    ####### step 1\n",
    "    startTime = time.time() # time run time\n",
    "    dataStack = Parallel(n_jobs=8)(delayed(veh_motion_est)(data, vid) for vid in tqdm(vidList))\n",
    "    dataX = np.concatenate(dataStack)\n",
    "    print('\\nruntime = ' + str(time.time() - startTime))\n",
    "\n",
    "    f.save_data_step1(dataX, srcDataDir + 'output/', target_file_name)\n",
    "\n",
    "    ##################################################################\n",
    "    ####### step 2\n",
    "    data = dataX.copy()             \n",
    "    vidList = np.unique(data[:,0])  # get vehicle ID list\n",
    "    startTime = time.time()         # time run time\n",
    "\n",
    "    ##################################################################\n",
    "    ##### step 2\n",
    "    dataS = data.copy()             # make a copy for stop processing\n",
    "    stopInfoAll = np.zeros((1,5))   # init stop info matrix\n",
    "    for vid in tqdm(vidList):\n",
    "        ind = dataS[:,0]==vid\n",
    "        dataVehS, isStopped, stopInfo = s2.ns_and_s_handle(dataS[ind, :])\n",
    "        if isStopped:\n",
    "            dataS[ind, :] = dataVehS\n",
    "            stopInfoAll = np.vstack((stopInfoAll, stopInfo))\n",
    "            \n",
    "    stopInfoAll = stopInfoAll[1:,:]\n",
    "\n",
    "    print('\\nruntime = ' + str(time.time() - startTime))\n",
    "\n",
    "    f.save_data_step2(dataS, srcDataDir + 'output/', target_file_name.replace('.mat','') +  '_op.mat')\n",
    "    f.save_data(stopInfoAll, srcDataDir + 'output/', target_file_name.replace('.mat','') + '_op_stop_info.mat', \"stopInfo\")"
   ]
  }
 ],
 "metadata": {
  "interpreter": {
   "hash": "586ad1ed5c97141e2437e681efbf1ec0adcd17d830cf5af2ca3d2819e743e158"
  },
  "kernelspec": {
   "display_name": "Python 3.8.8 64-bit ('base': conda)",
   "language": "python",
   "name": "python3"
  },
  "language_info": {
   "codemirror_mode": {
    "name": "ipython",
    "version": 3
   },
   "file_extension": ".py",
   "mimetype": "text/x-python",
   "name": "python",
   "nbconvert_exporter": "python",
   "pygments_lexer": "ipython3",
   "version": "3.9.2"
  },
  "orig_nbformat": 4
 },
 "nbformat": 4,
 "nbformat_minor": 2
}

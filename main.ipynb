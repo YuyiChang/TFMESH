{
 "cells": [
  {
   "cell_type": "markdown",
   "metadata": {},
   "source": [
    "# Trajectory fusing and motion estimation - NGSIM"
   ]
  },
  {
   "cell_type": "code",
   "execution_count": 1,
   "metadata": {},
   "outputs": [],
   "source": [
    "import numpy as np\n",
    "import matplotlib.pyplot as plt\n",
    "import time\n",
    "import warnings\n",
    "from tqdm import tqdm\n",
    "from joblib import Parallel, delayed\n",
    "import multiprocessing\n",
    "import os\n",
    "\n",
    "import libStep1 as s1\n",
    "import libStep2 as s2\n",
    "import libFileio as f\n",
    "import importlib\n",
    "\n",
    "import glob"
   ]
  },
  {
   "cell_type": "code",
   "execution_count": 5,
   "metadata": {},
   "outputs": [
    {
     "name": "stdout",
     "output_type": "stream",
     "text": [
      "data/v7_5_1_combined_preproc/\n"
     ]
    }
   ],
   "source": [
    "importlib.reload(f)\n",
    "importlib.reload(s1)\n",
    "importlib.reload(s2)\n",
    "\n",
    "# vNum = '7'\n",
    "# combType = 'combined'\n",
    "# srcDataDir = 'data/rawdata_' + combType + '_v' + vNum + '/'\n",
    "\n",
    "# OR, specify input data folder\n",
    "srcDataDir = 'data/v7_5_1_combined_preproc/' # NGSIM\n",
    "# srcDataDir = 'data/lidar_mini_test_220326/'\n",
    "\n",
    "print(srcDataDir)\n",
    "\n",
    "num_cores = multiprocessing.cpu_count()\n",
    "\n",
    "# create folder under srcDataDir for data output\n",
    "try:\n",
    "    os.mkdir(srcDataDir + 'output')\n",
    "except FileExistsError:\n",
    "    pass\n"
   ]
  },
  {
   "cell_type": "code",
   "execution_count": 6,
   "metadata": {},
   "outputs": [],
   "source": [
    "def veh_motion_est(data, vid):\n",
    "    # get vehicle\n",
    "    dataVeh = f.get_veh(data, vid)\n",
    "    # est motion\n",
    "    dataTemp = s1.combine_cam_motion_est_ud(dataVeh)\n",
    "    return dataTemp #, np.shape(dataTemp)[0]"
   ]
  },
  {
   "cell_type": "markdown",
   "metadata": {},
   "source": [
    "## i/o and step 1 and 2"
   ]
  },
  {
   "cell_type": "code",
   "execution_count": 7,
   "metadata": {},
   "outputs": [
    {
     "name": "stderr",
     "output_type": "stream",
     "text": [
      "  0%|          | 0/423 [00:00<?, ?it/s]"
     ]
    },
    {
     "name": "stdout",
     "output_type": "stream",
     "text": [
      "Found 6 data files under data/v7_5_1_combined_preproc/\n",
      "\n",
      "\n",
      "----------------------------------------------------------------------\n",
      "Working on data/v7_5_1_combined_preproc\\pp_cam1234567_lane1_combined_v7_5_1.mat...\n",
      "Data position already in [m]]\n",
      "(197659, 1)\n",
      "data/v7_5_1_combined_preproc/pp_cam1234567_lane1_combined_v7_5_1.mat\n",
      "There are 423 vehicles in this dataset.\n"
     ]
    },
    {
     "name": "stderr",
     "output_type": "stream",
     "text": [
      "100%|██████████| 423/423 [00:02<00:00, 192.44it/s]\n"
     ]
    },
    {
     "name": "stdout",
     "output_type": "stream",
     "text": [
      "\n",
      "runtime = 2.73\n"
     ]
    },
    {
     "name": "stderr",
     "output_type": "stream",
     "text": [
      " 30%|███       | 129/423 [00:00<00:00, 1289.98it/s]"
     ]
    },
    {
     "name": "stdout",
     "output_type": "stream",
     "text": [
      "Saved to data/v7_5_1_combined_preproc/output/pp_cam1234567_lane1_combined_v7_5_1.mat\n"
     ]
    },
    {
     "name": "stderr",
     "output_type": "stream",
     "text": [
      "100%|██████████| 423/423 [00:00<00:00, 1623.71it/s]\n"
     ]
    },
    {
     "name": "stdout",
     "output_type": "stream",
     "text": [
      "\n",
      "runtime = 0.27\n"
     ]
    },
    {
     "name": "stderr",
     "output_type": "stream",
     "text": [
      "  0%|          | 0/481 [00:00<?, ?it/s]"
     ]
    },
    {
     "name": "stdout",
     "output_type": "stream",
     "text": [
      "Saved to data/v7_5_1_combined_preproc/output/pp_cam1234567_lane1_combined_v7_5_1_op.mat\n",
      "Saved to data/v7_5_1_combined_preproc/output/pp_cam1234567_lane1_combined_v7_5_1_op_stop_info.mat\n",
      "\n",
      "----------------------------------------------------------------------\n",
      "Working on data/v7_5_1_combined_preproc\\pp_cam1234567_lane2_combined_v7_5_1.mat...\n",
      "Data position already in [m]]\n",
      "(431416, 1)\n",
      "data/v7_5_1_combined_preproc/pp_cam1234567_lane2_combined_v7_5_1.mat\n",
      "There are 481 vehicles in this dataset.\n"
     ]
    },
    {
     "name": "stderr",
     "output_type": "stream",
     "text": [
      "100%|██████████| 481/481 [00:05<00:00, 93.86it/s] \n"
     ]
    },
    {
     "name": "stdout",
     "output_type": "stream",
     "text": [
      "\n",
      "runtime = 5.35\n"
     ]
    },
    {
     "name": "stderr",
     "output_type": "stream",
     "text": [
      " 10%|▉         | 47/481 [00:00<00:00, 470.00it/s]"
     ]
    },
    {
     "name": "stdout",
     "output_type": "stream",
     "text": [
      "Saved to data/v7_5_1_combined_preproc/output/pp_cam1234567_lane2_combined_v7_5_1.mat\n"
     ]
    },
    {
     "name": "stderr",
     "output_type": "stream",
     "text": [
      "100%|██████████| 481/481 [00:00<00:00, 673.67it/s]\n"
     ]
    },
    {
     "name": "stdout",
     "output_type": "stream",
     "text": [
      "\n",
      "runtime = 0.72\n"
     ]
    },
    {
     "name": "stderr",
     "output_type": "stream",
     "text": [
      "  0%|          | 0/486 [00:00<?, ?it/s]"
     ]
    },
    {
     "name": "stdout",
     "output_type": "stream",
     "text": [
      "Saved to data/v7_5_1_combined_preproc/output/pp_cam1234567_lane2_combined_v7_5_1_op.mat\n",
      "Saved to data/v7_5_1_combined_preproc/output/pp_cam1234567_lane2_combined_v7_5_1_op_stop_info.mat\n",
      "\n",
      "----------------------------------------------------------------------\n",
      "Working on data/v7_5_1_combined_preproc\\pp_cam1234567_lane3_combined_v7_5_1.mat...\n",
      "Data position already in [m]]\n",
      "(374022, 1)\n",
      "data/v7_5_1_combined_preproc/pp_cam1234567_lane3_combined_v7_5_1.mat\n",
      "There are 486 vehicles in this dataset.\n"
     ]
    },
    {
     "name": "stderr",
     "output_type": "stream",
     "text": [
      "100%|██████████| 486/486 [00:04<00:00, 111.59it/s]\n"
     ]
    },
    {
     "name": "stdout",
     "output_type": "stream",
     "text": [
      "\n",
      "runtime = 4.82\n"
     ]
    },
    {
     "name": "stderr",
     "output_type": "stream",
     "text": [
      "  7%|▋         | 33/486 [00:00<00:01, 326.73it/s]"
     ]
    },
    {
     "name": "stdout",
     "output_type": "stream",
     "text": [
      "Saved to data/v7_5_1_combined_preproc/output/pp_cam1234567_lane3_combined_v7_5_1.mat\n"
     ]
    },
    {
     "name": "stderr",
     "output_type": "stream",
     "text": [
      "100%|██████████| 486/486 [00:00<00:00, 703.31it/s]\n"
     ]
    },
    {
     "name": "stdout",
     "output_type": "stream",
     "text": [
      "\n",
      "runtime = 0.70\n",
      "Saved to data/v7_5_1_combined_preproc/output/pp_cam1234567_lane3_combined_v7_5_1_op.mat\n",
      "Saved to data/v7_5_1_combined_preproc/output/pp_cam1234567_lane3_combined_v7_5_1_op_stop_info.mat\n",
      "\n",
      "----------------------------------------------------------------------\n",
      "Working on data/v7_5_1_combined_preproc\\pp_cam1234567_lane4_combined_v7_5_1.mat...\n",
      "Data position already in [m]]\n",
      "(445792, 1)\n",
      "data/v7_5_1_combined_preproc/pp_cam1234567_lane4_combined_v7_5_1.mat\n"
     ]
    },
    {
     "name": "stderr",
     "output_type": "stream",
     "text": [
      "  6%|▌         | 32/557 [00:00<00:02, 190.42it/s]"
     ]
    },
    {
     "name": "stdout",
     "output_type": "stream",
     "text": [
      "There are 557 vehicles in this dataset.\n"
     ]
    },
    {
     "name": "stderr",
     "output_type": "stream",
     "text": [
      "100%|██████████| 557/557 [00:05<00:00, 101.22it/s]\n"
     ]
    },
    {
     "name": "stdout",
     "output_type": "stream",
     "text": [
      "\n",
      "runtime = 5.75\n"
     ]
    },
    {
     "name": "stderr",
     "output_type": "stream",
     "text": [
      "  5%|▌         | 28/557 [00:00<00:01, 277.23it/s]"
     ]
    },
    {
     "name": "stdout",
     "output_type": "stream",
     "text": [
      "Saved to data/v7_5_1_combined_preproc/output/pp_cam1234567_lane4_combined_v7_5_1.mat\n"
     ]
    },
    {
     "name": "stderr",
     "output_type": "stream",
     "text": [
      "100%|██████████| 557/557 [00:00<00:00, 570.26it/s]\n"
     ]
    },
    {
     "name": "stdout",
     "output_type": "stream",
     "text": [
      "\n",
      "runtime = 0.99\n"
     ]
    },
    {
     "name": "stderr",
     "output_type": "stream",
     "text": [
      "  0%|          | 0/555 [00:00<?, ?it/s]"
     ]
    },
    {
     "name": "stdout",
     "output_type": "stream",
     "text": [
      "Saved to data/v7_5_1_combined_preproc/output/pp_cam1234567_lane4_combined_v7_5_1_op.mat\n",
      "Saved to data/v7_5_1_combined_preproc/output/pp_cam1234567_lane4_combined_v7_5_1_op_stop_info.mat\n",
      "\n",
      "----------------------------------------------------------------------\n",
      "Working on data/v7_5_1_combined_preproc\\pp_cam1234567_lane5_combined_v7_5_1.mat...\n",
      "Data position already in [m]]\n",
      "(409645, 1)\n",
      "data/v7_5_1_combined_preproc/pp_cam1234567_lane5_combined_v7_5_1.mat\n",
      "There are 555 vehicles in this dataset.\n"
     ]
    },
    {
     "name": "stderr",
     "output_type": "stream",
     "text": [
      "100%|██████████| 555/555 [00:05<00:00, 109.70it/s]\n"
     ]
    },
    {
     "name": "stdout",
     "output_type": "stream",
     "text": [
      "\n",
      "runtime = 5.33\n"
     ]
    },
    {
     "name": "stderr",
     "output_type": "stream",
     "text": [
      "  3%|▎         | 15/555 [00:00<00:03, 147.06it/s]"
     ]
    },
    {
     "name": "stdout",
     "output_type": "stream",
     "text": [
      "Saved to data/v7_5_1_combined_preproc/output/pp_cam1234567_lane5_combined_v7_5_1.mat\n"
     ]
    },
    {
     "name": "stderr",
     "output_type": "stream",
     "text": [
      "100%|██████████| 555/555 [00:00<00:00, 607.22it/s]\n"
     ]
    },
    {
     "name": "stdout",
     "output_type": "stream",
     "text": [
      "\n",
      "runtime = 0.92\n"
     ]
    },
    {
     "name": "stderr",
     "output_type": "stream",
     "text": [
      "  0%|          | 0/583 [00:00<?, ?it/s]"
     ]
    },
    {
     "name": "stdout",
     "output_type": "stream",
     "text": [
      "Saved to data/v7_5_1_combined_preproc/output/pp_cam1234567_lane5_combined_v7_5_1_op.mat\n",
      "Saved to data/v7_5_1_combined_preproc/output/pp_cam1234567_lane5_combined_v7_5_1_op_stop_info.mat\n",
      "\n",
      "----------------------------------------------------------------------\n",
      "Working on data/v7_5_1_combined_preproc\\pp_cam1234567_lane6_combined_v7_5_1.mat...\n",
      "Data position already in [m]]\n",
      "(387881, 1)\n",
      "data/v7_5_1_combined_preproc/pp_cam1234567_lane6_combined_v7_5_1.mat\n",
      "There are 583 vehicles in this dataset.\n"
     ]
    },
    {
     "name": "stderr",
     "output_type": "stream",
     "text": [
      "100%|██████████| 583/583 [00:04<00:00, 130.42it/s]\n"
     ]
    },
    {
     "name": "stdout",
     "output_type": "stream",
     "text": [
      "\n",
      "runtime = 4.96\n"
     ]
    },
    {
     "name": "stderr",
     "output_type": "stream",
     "text": [
      "  3%|▎         | 15/583 [00:00<00:03, 149.79it/s]"
     ]
    },
    {
     "name": "stdout",
     "output_type": "stream",
     "text": [
      "Saved to data/v7_5_1_combined_preproc/output/pp_cam1234567_lane6_combined_v7_5_1.mat\n"
     ]
    },
    {
     "name": "stderr",
     "output_type": "stream",
     "text": [
      "100%|██████████| 583/583 [00:00<00:00, 698.08it/s]\n"
     ]
    },
    {
     "name": "stdout",
     "output_type": "stream",
     "text": [
      "\n",
      "runtime = 0.84\n",
      "Saved to data/v7_5_1_combined_preproc/output/pp_cam1234567_lane6_combined_v7_5_1_op.mat\n",
      "Saved to data/v7_5_1_combined_preproc/output/pp_cam1234567_lane6_combined_v7_5_1_op_stop_info.mat\n"
     ]
    }
   ],
   "source": [
    "file_list = glob.glob(srcDataDir + '*.mat')\n",
    "print(\"Found \" + str(len(file_list)) + \" data files under \" + srcDataDir + \"\\n\")\n",
    "\n",
    "for file in file_list:\n",
    "    print(\"\\n----------------------------------------------------------------------\")\n",
    "    print(\"Working on \" + file + \"...\")\n",
    "\n",
    "    # load all cam data\n",
    "    if os.name == 'nt':\n",
    "        target_file_name = file.split('\\\\')[-1]\n",
    "    else:\n",
    "        target_file_name = file.split('/')[-1]\n",
    "        \n",
    "    data = f.load_data(srcDataDir + target_file_name, unit='meter')\n",
    "\n",
    "    sz = np.shape(data)\n",
    "\n",
    "    if sz[1] < 23:\n",
    "        tmp = np.zeros((sz[0], 23-sz[1]))\n",
    "        print(np.shape(tmp))\n",
    "        # data[:,22] = np.zeros((sz[0],))\n",
    "        data = np.hstack((data, tmp))\n",
    "\n",
    "\n",
    "    print(srcDataDir + target_file_name)\n",
    "    # get vehicle ID list\n",
    "    vidList = np.unique(data[:,0])\n",
    "    print('There are ' + str(len(vidList)) + ' vehicles in this dataset.')\n",
    "\n",
    "\n",
    "    ####### step 1\n",
    "    startTime = time.time() # time run time\n",
    "    dataStack = Parallel(n_jobs=8)(delayed(veh_motion_est)(data, vid) for vid in tqdm(vidList))\n",
    "    dataX = np.concatenate(dataStack)\n",
    "    print('\\nruntime = {:.2f}'.format(time.time() - startTime))\n",
    "\n",
    "    f.save_data_step1(dataX, srcDataDir + 'output/', target_file_name)\n",
    "\n",
    "    ##################################################################\n",
    "    ####### step 2\n",
    "    data = dataX.copy()             \n",
    "    vidList = np.unique(data[:,0])  # get vehicle ID list\n",
    "    startTime = time.time()         # time run time\n",
    "\n",
    "    ##################################################################\n",
    "    ##### step 2\n",
    "    dataS = data.copy()             # make a copy for stop processing\n",
    "    stopInfoAll = np.zeros((1,5))   # init stop info matrix\n",
    "    for vid in tqdm(vidList):\n",
    "        ind = dataS[:,0]==vid\n",
    "        dataVehS, isStopped, stopInfo = s2.ns_and_s_handle(dataS[ind, :])\n",
    "        if isStopped:\n",
    "            dataS[ind, :] = dataVehS\n",
    "            stopInfoAll = np.vstack((stopInfoAll, stopInfo))\n",
    "            \n",
    "    stopInfoAll = stopInfoAll[1:,:]\n",
    "\n",
    "    print('\\nruntime = {:.2f}'.format(time.time() - startTime))\n",
    "\n",
    "    f.save_data_step2(dataS, srcDataDir + 'output/', target_file_name.replace('.mat','') +  '_op.mat')\n",
    "    f.save_data(stopInfoAll, srcDataDir + 'output/', target_file_name.replace('.mat','') + '_op_stop_info.mat', \"stopInfo\")"
   ]
  }
 ],
 "metadata": {
  "interpreter": {
   "hash": "586ad1ed5c97141e2437e681efbf1ec0adcd17d830cf5af2ca3d2819e743e158"
  },
  "kernelspec": {
   "display_name": "Python 3.8.8 64-bit ('base': conda)",
   "language": "python",
   "name": "python3"
  },
  "language_info": {
   "codemirror_mode": {
    "name": "ipython",
    "version": 3
   },
   "file_extension": ".py",
   "mimetype": "text/x-python",
   "name": "python",
   "nbconvert_exporter": "python",
   "pygments_lexer": "ipython3",
   "version": "3.9.2"
  },
  "orig_nbformat": 4
 },
 "nbformat": 4,
 "nbformat_minor": 2
}
